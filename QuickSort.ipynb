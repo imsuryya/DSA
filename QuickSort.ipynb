{
 "cells": [
  {
   "cell_type": "code",
   "execution_count": 7,
   "id": "6bf23afe-90d4-428e-8eb7-d9be399930ba",
   "metadata": {},
   "outputs": [
    {
     "name": "stdout",
     "output_type": "stream",
     "text": [
      "Before: [5, 6, 3, 4, 8]\n",
      "After: [3, 4, 5, 6, 8]\n"
     ]
    }
   ],
   "source": [
    "import random\n",
    "\n",
    "def QuickSort(arr):\n",
    "    if len(arr) <= 1:\n",
    "        return arr\n",
    "\n",
    "    pivot = random.choice(arr)\n",
    "    \n",
    "    left = []\n",
    "    right = []\n",
    "    middle = []\n",
    "    \n",
    "    for i in arr:\n",
    "        if i < pivot:\n",
    "            left.append(i)\n",
    "        elif i > pivot:\n",
    "            right.append(i)\n",
    "        else:\n",
    "            middle.append(i)\n",
    "    \n",
    "    return QuickSort(left) + middle + QuickSort(right)\n",
    "\n",
    "arr = [5, 6, 3, 4, 8]\n",
    "print(\"Before:\", arr)\n",
    "print(\"After:\", QuickSort(arr))\n",
    "            "
   ]
  },
  {
   "cell_type": "code",
   "execution_count": null,
   "id": "5032dc60-4f3a-4de4-9dd0-4b2f117db3c9",
   "metadata": {},
   "outputs": [],
   "source": [
    "!git init\n",
    "!git add QuickSort.ipynb\n",
    "\n"
   ]
  }
 ],
 "metadata": {
  "kernelspec": {
   "display_name": "Python 3 (ipykernel)",
   "language": "python",
   "name": "python3"
  },
  "language_info": {
   "codemirror_mode": {
    "name": "ipython",
    "version": 3
   },
   "file_extension": ".py",
   "mimetype": "text/x-python",
   "name": "python",
   "nbconvert_exporter": "python",
   "pygments_lexer": "ipython3",
   "version": "3.12.4"
  }
 },
 "nbformat": 4,
 "nbformat_minor": 5
}
