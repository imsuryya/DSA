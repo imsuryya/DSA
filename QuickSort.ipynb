{
 "cells": [
  {
   "cell_type": "code",
   "execution_count": 7,
   "id": "6bf23afe-90d4-428e-8eb7-d9be399930ba",
   "metadata": {},
   "outputs": [
    {
     "name": "stdout",
     "output_type": "stream",
     "text": [
      "Before: [5, 6, 3, 4, 8]\n",
      "After: [3, 4, 5, 6, 8]\n"
     ]
    }
   ],
   "source": [
    "import random\n",
    "\n",
    "def QuickSort(arr):\n",
    "    if len(arr) <= 1:\n",
    "        return arr\n",
    "\n",
    "    pivot = random.choice(arr)\n",
    "    \n",
    "    left = []\n",
    "    right = []\n",
    "    middle = []\n",
    "    \n",
    "    for i in arr:\n",
    "        if i < pivot:\n",
    "            left.append(i)\n",
    "        elif i > pivot:\n",
    "            right.append(i)\n",
    "        else:\n",
    "            middle.append(i)\n",
    "    \n",
    "    return QuickSort(left) + middle + QuickSort(right)\n",
    "\n",
    "arr = [5, 6, 3, 4, 8]\n",
    "print(\"Before:\", arr)\n",
    "print(\"After:\", QuickSort(arr))\n",
    "            "
   ]
  },
  {
   "cell_type": "code",
   "execution_count": 8,
   "id": "5032dc60-4f3a-4de4-9dd0-4b2f117db3c9",
   "metadata": {},
   "outputs": [
    {
     "name": "stdout",
     "output_type": "stream",
     "text": [
      "Initialized empty Git repository in C:/Users/R.Surya/.git/\n"
     ]
    },
    {
     "name": "stderr",
     "output_type": "stream",
     "text": [
      "warning: in the working copy of 'QuickSort.ipynb', LF will be replaced by CRLF the next time Git touches it\n"
     ]
    },
    {
     "name": "stdout",
     "output_type": "stream",
     "text": [
      "[master (root-commit) ac482db] Initial commit of my QuickSort\n",
      " 1 file changed, 81 insertions(+)\n",
      " create mode 100644 QuickSort.ipynb\n",
      "branch 'master' set up to track 'origin/master'.\n"
     ]
    },
    {
     "name": "stderr",
     "output_type": "stream",
     "text": [
      "remote: \n",
      "remote: Create a pull request for 'master' on GitHub by visiting:        \n",
      "remote:      https://github.com/imsuryya/DSA/pull/new/master        \n",
      "remote: \n",
      "To https://github.com/imsuryya/DSA.git\n",
      " * [new branch]      master -> master\n"
     ]
    }
   ],
   "source": [
    "!git init\n",
    "!git add QuickSort.ipynb\n",
    "!git commit -m \"Initial commit of my QuickSort\"\n",
    "!git remote add origin https://github.com/imsuryya/DSA.git\n",
    "!git push -u origin master"
   ]
  },
  {
   "cell_type": "code",
   "execution_count": null,
   "id": "72c8c019-901c-4774-a85f-c7dde8f8f5d7",
   "metadata": {},
   "outputs": [],
   "source": []
  }
 ],
 "metadata": {
  "kernelspec": {
   "display_name": "Python 3 (ipykernel)",
   "language": "python",
   "name": "python3"
  },
  "language_info": {
   "codemirror_mode": {
    "name": "ipython",
    "version": 3
   },
   "file_extension": ".py",
   "mimetype": "text/x-python",
   "name": "python",
   "nbconvert_exporter": "python",
   "pygments_lexer": "ipython3",
   "version": "3.12.4"
  }
 },
 "nbformat": 4,
 "nbformat_minor": 5
}
